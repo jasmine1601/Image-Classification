{
  "nbformat": 4,
  "nbformat_minor": 0,
  "metadata": {
    "colab": {
      "name": "Image Classification-using CNN.ipynb",
      "provenance": [],
      "collapsed_sections": []
    },
    "kernelspec": {
      "name": "python3",
      "display_name": "Python 3"
    },
    "language_info": {
      "name": "python"
    }
  },
  "cells": [
    {
      "cell_type": "markdown",
      "metadata": {
        "id": "yTnDS_bvBVI8"
      },
      "source": [
        "**Data preprocessing**"
      ]
    },
    {
      "cell_type": "code",
      "metadata": {
        "colab": {
          "base_uri": "https://localhost:8080/"
        },
        "id": "BZ03kaB-zvkK",
        "outputId": "b034bfc5-a28d-4f23-80fb-e6f10232bdab"
      },
      "source": [
        "train_dir = '/content/drive/MyDrive/ML/Projects/Dataset1'\n",
        "validation_dir = '/content/drive/MyDrive/ML/Projects/Dataset2'\n",
        "\n",
        "from keras.preprocessing.image import ImageDataGenerator\n",
        "\n",
        "train_datagen = ImageDataGenerator(rescale = 1./255)\n",
        "validation_datagen = ImageDataGenerator(rescale = 1./255)\n",
        "\n",
        "train_set = train_datagen.flow_from_directory(train_dir, target_size =(150, 150), batch_size = 20, class_mode ='binary')\n",
        "validation_set = validation_datagen.flow_from_directory(validation_dir, target_size =(150, 150), batch_size = 20, class_mode ='binary')"
      ],
      "execution_count": 1,
      "outputs": [
        {
          "output_type": "stream",
          "text": [
            "Found 600 images belonging to 2 classes.\n",
            "Found 200 images belonging to 2 classes.\n"
          ],
          "name": "stdout"
        }
      ]
    },
    {
      "cell_type": "markdown",
      "metadata": {
        "id": "vLNw2jzGBhqU"
      },
      "source": [
        "**Build CNN**"
      ]
    },
    {
      "cell_type": "code",
      "metadata": {
        "colab": {
          "base_uri": "https://localhost:8080/"
        },
        "id": "5e0Kp6O21cWj",
        "outputId": "be5070ec-c9a0-45ba-981b-175b6cac9d43"
      },
      "source": [
        "from tensorflow.keras.models import Sequential\n",
        "from tensorflow.keras.layers import Conv2D\n",
        "from tensorflow.keras.layers import MaxPooling2D\n",
        "from tensorflow.keras.layers import Flatten\n",
        "from tensorflow.keras.layers import Dense\n",
        "cnn_model = Sequential()\n",
        "\n",
        "# Convolutional Layer\n",
        "cnn_model.add(Conv2D(32,(3,3),input_shape = (150,150,3),activation='relu'))  \n",
        "cnn_model.add(MaxPooling2D(pool_size=(2,2))) \n",
        "cnn_model.add(Flatten()) \n",
        "\n",
        "# Hidden Layer\n",
        "cnn_model.add(Dense(128,activation='relu'))\n",
        "\n",
        "# Output Layer\n",
        "cnn_model.add(Dense(1,activation='sigmoid'))\n",
        "print(cnn_model.summary())"
      ],
      "execution_count": 2,
      "outputs": [
        {
          "output_type": "stream",
          "text": [
            "Model: \"sequential\"\n",
            "_________________________________________________________________\n",
            "Layer (type)                 Output Shape              Param #   \n",
            "=================================================================\n",
            "conv2d (Conv2D)              (None, 148, 148, 32)      896       \n",
            "_________________________________________________________________\n",
            "max_pooling2d (MaxPooling2D) (None, 74, 74, 32)        0         \n",
            "_________________________________________________________________\n",
            "flatten (Flatten)            (None, 175232)            0         \n",
            "_________________________________________________________________\n",
            "dense (Dense)                (None, 128)               22429824  \n",
            "_________________________________________________________________\n",
            "dense_1 (Dense)              (None, 1)                 129       \n",
            "=================================================================\n",
            "Total params: 22,430,849\n",
            "Trainable params: 22,430,849\n",
            "Non-trainable params: 0\n",
            "_________________________________________________________________\n",
            "None\n"
          ],
          "name": "stdout"
        }
      ]
    },
    {
      "cell_type": "markdown",
      "metadata": {
        "id": "8wKBlwGyBlKN"
      },
      "source": [
        "**Compile Model**"
      ]
    },
    {
      "cell_type": "code",
      "metadata": {
        "id": "1E8pDTAfA_J_"
      },
      "source": [
        "cnn_model.compile(loss='binary_crossentropy',optimizer='adam',metrics=['accuracy'])"
      ],
      "execution_count": 3,
      "outputs": []
    },
    {
      "cell_type": "markdown",
      "metadata": {
        "id": "MEQAvgNfBoKZ"
      },
      "source": [
        "**Train model**"
      ]
    },
    {
      "cell_type": "code",
      "metadata": {
        "id": "zPaoh8fX3FwC",
        "colab": {
          "base_uri": "https://localhost:8080/"
        },
        "outputId": "be3b7e0e-aade-4c1a-e069-cade4f7cf12b"
      },
      "source": [
        "import warnings\n",
        "warnings.filterwarnings('ignore')\n",
        "# steps_per_epoch = no. of training images / batch size\n",
        "# validation_steps = no. of validation images / batch size\n",
        "history = cnn_model.fit_generator(train_set,steps_per_epoch = 30 ,epochs = 10,validation_data = validation_set,validation_steps = 10)"
      ],
      "execution_count": 4,
      "outputs": [
        {
          "output_type": "stream",
          "text": [
            "Epoch 1/10\n",
            "30/30 [==============================] - 293s 10s/step - loss: 2.5298 - accuracy: 0.7054 - val_loss: 0.5949 - val_accuracy: 0.8250\n",
            "Epoch 2/10\n",
            "30/30 [==============================] - 16s 535ms/step - loss: 0.3210 - accuracy: 0.8857 - val_loss: 0.4090 - val_accuracy: 0.8600\n",
            "Epoch 3/10\n",
            "30/30 [==============================] - 16s 539ms/step - loss: 0.1310 - accuracy: 0.9532 - val_loss: 0.4082 - val_accuracy: 0.8500\n",
            "Epoch 4/10\n",
            "30/30 [==============================] - 16s 547ms/step - loss: 0.0665 - accuracy: 0.9845 - val_loss: 0.4080 - val_accuracy: 0.8500\n",
            "Epoch 5/10\n",
            "30/30 [==============================] - 16s 547ms/step - loss: 0.0460 - accuracy: 0.9837 - val_loss: 0.3491 - val_accuracy: 0.8800\n",
            "Epoch 6/10\n",
            "30/30 [==============================] - 16s 543ms/step - loss: 0.0170 - accuracy: 1.0000 - val_loss: 0.3644 - val_accuracy: 0.8650\n",
            "Epoch 7/10\n",
            "30/30 [==============================] - 16s 534ms/step - loss: 0.0063 - accuracy: 1.0000 - val_loss: 0.3953 - val_accuracy: 0.8700\n",
            "Epoch 8/10\n",
            "30/30 [==============================] - 16s 545ms/step - loss: 0.0035 - accuracy: 1.0000 - val_loss: 0.3996 - val_accuracy: 0.8650\n",
            "Epoch 9/10\n",
            "30/30 [==============================] - 16s 538ms/step - loss: 0.0022 - accuracy: 1.0000 - val_loss: 0.4067 - val_accuracy: 0.8700\n",
            "Epoch 10/10\n",
            "30/30 [==============================] - 16s 536ms/step - loss: 0.0022 - accuracy: 1.0000 - val_loss: 0.4042 - val_accuracy: 0.8650\n"
          ],
          "name": "stdout"
        }
      ]
    },
    {
      "cell_type": "code",
      "metadata": {
        "id": "w-crGTKhA2Nq"
      },
      "source": [
        "# Save Model\n",
        "cnn_model.save('/content/drive/MyDrive/ML/Projects/saved_model/cnnModel.h5')"
      ],
      "execution_count": 5,
      "outputs": []
    },
    {
      "cell_type": "code",
      "metadata": {
        "colab": {
          "base_uri": "https://localhost:8080/"
        },
        "id": "XKnctoENGikF",
        "outputId": "8978cef3-db5b-46be-ca54-863b1dc87a23"
      },
      "source": [
        "# Check Model Class Indices\n",
        "print(\"The model class indices are:\", train_set.class_indices)"
      ],
      "execution_count": 7,
      "outputs": [
        {
          "output_type": "stream",
          "text": [
            "The model class indices are: {'cake': 0, 'pizza': 1}\n"
          ],
          "name": "stdout"
        }
      ]
    },
    {
      "cell_type": "markdown",
      "metadata": {
        "id": "u97QKhPbAaf0"
      },
      "source": [
        "**Model Accuracy**"
      ]
    },
    {
      "cell_type": "code",
      "metadata": {
        "colab": {
          "base_uri": "https://localhost:8080/"
        },
        "id": "_FfXy07rAdoP",
        "outputId": "d980d4e9-1541-4e9d-9fd3-edc9a58337b3"
      },
      "source": [
        "cnn_model.evaluate(validation_set)"
      ],
      "execution_count": 9,
      "outputs": [
        {
          "output_type": "stream",
          "text": [
            "10/10 [==============================] - 2s 195ms/step - loss: 0.4042 - accuracy: 0.8650\n"
          ],
          "name": "stdout"
        },
        {
          "output_type": "execute_result",
          "data": {
            "text/plain": [
              "[0.404236763715744, 0.8650000095367432]"
            ]
          },
          "metadata": {
            "tags": []
          },
          "execution_count": 9
        }
      ]
    },
    {
      "cell_type": "markdown",
      "metadata": {
        "id": "BduKFnDzG52G"
      },
      "source": [
        "**Test Model**"
      ]
    },
    {
      "cell_type": "code",
      "metadata": {
        "colab": {
          "base_uri": "https://localhost:8080/"
        },
        "id": "X8gQa3A9GZwb",
        "outputId": "ec752137-f0f4-43f0-8250-67790926042a"
      },
      "source": [
        "import numpy as np\n",
        "from keras.preprocessing import image\n",
        "test_image = image.load_img('/content/drive/MyDrive/ML/Projects/Test/pizza1.jpg', target_size = (150, 150))\n",
        "test_image = image.img_to_array(test_image)\n",
        "test_image = np.expand_dims(test_image, axis = 0)\n",
        "result = cnn_model.predict(test_image)\n",
        "train_set.class_indices\n",
        "if result[0][0] == 1:\n",
        "    prediction = 'Pizza'\n",
        "else:\n",
        "    prediction = 'Cake'\n",
        "\n",
        "print(\"\\nPrediction: \" + prediction)"
      ],
      "execution_count": 10,
      "outputs": [
        {
          "output_type": "stream",
          "text": [
            "\n",
            "Prediction: Pizza\n"
          ],
          "name": "stdout"
        }
      ]
    },
    {
      "cell_type": "code",
      "metadata": {
        "id": "7GbNiAb7ABxe"
      },
      "source": [
        ""
      ],
      "execution_count": null,
      "outputs": []
    }
  ]
}